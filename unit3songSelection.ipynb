{
 "cells": [
  {
   "cell_type": "code",
   "execution_count": 132,
   "metadata": {},
   "outputs": [],
   "source": [
    "import os,sys,math\n",
    "import pandas as pd\n",
    "import numpy as np\n",
    "import matplotlib.pyplot as plt\n",
    "import statsmodels.api as sm\n",
    "import statsmodels.formula.api as smf\n",
    "import statsmodels.discrete.discrete_model as lg\n",
    "from sklearn.metrics import roc_curve\n",
    "from sklearn.metrics import roc_auc_score as auc\n",
    "from sklearn.metrics import mean_squared_error as mse\n",
    "from sklearn.metrics import confusion_matrix as cm\n",
    "from sklearn.metrics import r2_score as r2\n",
    "from sklearn.model_selection import train_test_split as split\n",
    "%matplotlib inline\n",
    "e=math.exp\n",
    "ln=math.log\n",
    "\n",
    "plt.style.use(\"fivethirtyeight\")"
   ]
  },
  {
   "cell_type": "code",
   "execution_count": 242,
   "metadata": {},
   "outputs": [
    {
     "name": "stdout",
     "output_type": "stream",
     "text": [
      "Optimization terminated successfully.\n",
      "         Current function value: 0.330451\n",
      "         Iterations 8\n",
      "Optimization terminated successfully.\n",
      "         Current function value: 0.338276\n",
      "         Iterations 8\n",
      "Optimization terminated successfully.\n",
      "         Current function value: 0.332087\n",
      "         Iterations 8\n"
     ]
    },
    {
     "data": {
      "text/plain": [
       "array([[309,   5],\n",
       "       [ 40,  19]])"
      ]
     },
     "execution_count": 242,
     "metadata": {},
     "output_type": "execute_result"
    }
   ],
   "source": [
    "songs=pd.read_csv('data/songs.csv',encoding=\"ISO-8859-1\")\n",
    "\n",
    "songs.dropna(inplace=True)\n",
    "\n",
    "sTrain=songs[songs.year<2010]\n",
    "sTest=songs[songs.year>2009]\n",
    "\n",
    "xTrain=sTrain.drop(['year','songtitle','artistname','songID','artistID','Top10'],axis=1)\n",
    "xTrain=sm.add_constant(xTrain)\n",
    "yTrain=sTrain['Top10']\n",
    "\n",
    "xTest=sTest.drop(['year','songtitle','artistname','songID','artistID','Top10'],axis=1)\n",
    "xTest=sm.add_constant(xTest)\n",
    "yTest=sTest['Top10']\n",
    "\n",
    "model1=lg.Logit(yTrain,xTrain).fit()\n",
    "model2=lg.Logit(yTrain,xTrain.drop('loudness',axis=1)).fit()\n",
    "model3=lg.Logit(yTrain,xTrain.drop('energy',axis=1)).fit()\n",
    "model3.summary()\n",
    "\n",
    "yPred=model3.predict(xTest.drop('energy',axis=1))\n",
    "\n",
    "table=cm(yTest,yPred>0.45)\n",
    "#(309+15)/(309+15+44+5)\n"
   ]
  }
 ],
 "metadata": {
  "kernelspec": {
   "display_name": "Python 3",
   "language": "python",
   "name": "python3"
  },
  "language_info": {
   "codemirror_mode": {
    "name": "ipython",
    "version": 3
   },
   "file_extension": ".py",
   "mimetype": "text/x-python",
   "name": "python",
   "nbconvert_exporter": "python",
   "pygments_lexer": "ipython3",
   "version": "3.6.1"
  }
 },
 "nbformat": 4,
 "nbformat_minor": 2
}

{
 "cells": [
  {
   "cell_type": "code",
   "execution_count": 172,
   "metadata": {},
   "outputs": [],
   "source": [
    "import os,sys,math\n",
    "import pandas as pd\n",
    "import numpy as np\n",
    "import matplotlib.pyplot as plt\n",
    "import statsmodels.api as sm\n",
    "import statsmodels.formula.api as smf\n",
    "from sklearn.metrics import mean_squared_error as mse\n",
    "from sklearn.metrics import r2_score as r2\n",
    "%matplotlib inline\n",
    "e=math.exp\n",
    "ln=math.log\n",
    "\n",
    "plt.style.use(\"fivethirtyeight\")"
   ]
  },
  {
   "cell_type": "code",
   "execution_count": 136,
   "metadata": {},
   "outputs": [],
   "source": [
    "fluTrain=pd.read_csv('data/FluTrain.csv')\n",
    "fluTest=pd.read_csv('data/FluTest.csv')\n",
    "\n"
   ]
  },
  {
   "cell_type": "code",
   "execution_count": 184,
   "metadata": {
    "scrolled": true
   },
   "outputs": [
    {
     "data": {
      "text/plain": [
       "<matplotlib.collections.PathCollection at 0x2112a114dd8>"
      ]
     },
     "execution_count": 184,
     "metadata": {},
     "output_type": "execute_result"
    },
    {
     "data": {
      "image/png": "[encoded data removed]",
      "text/plain": [
       "<matplotlib.figure.Figure at 0x2112a02a780>"
      ]
     },
     "metadata": {},
     "output_type": "display_data"
    }
   ],
   "source": [
    "ILILag2=fluTrain['ILI'][:-2]\n",
    "ILILag2.index=ILILag2.index+2\n",
    "\n",
    "fluTrain['ILILag2']=ILILag2\n",
    "\n",
    "plt.scatter(fluTrain['ILI'].apply(lambda x: ln(x)),fluTrain['ILILag2'].apply(lambda x: ln(x)))"
   ]
  },
  {
   "cell_type": "code",
   "execution_count": 204,
   "metadata": {},
   "outputs": [
    {
     "data": {
      "text/html": [
       "<table class=\"simpletable\">\n",
       "<caption>OLS Regression Results</caption>\n",
       "<tr>\n",
       "  <th>Dep. Variable:</th>           <td>ILI</td>       <th>  R-squared:         </th> <td>   0.906</td> \n",
       "</tr>\n",
       "<tr>\n",
       "  <th>Model:</th>                   <td>OLS</td>       <th>  Adj. R-squared:    </th> <td>   0.906</td> \n",
       "</tr>\n",
       "<tr>\n",
       "  <th>Method:</th>             <td>Least Squares</td>  <th>  F-statistic:       </th> <td>   1993.</td> \n",
       "</tr>\n",
       "<tr>\n",
       "  <th>Date:</th>             <td>Wed, 14 Feb 2018</td> <th>  Prob (F-statistic):</th> <td>1.38e-212</td>\n",
       "</tr>\n",
       "<tr>\n",
       "  <th>Time:</th>                 <td>17:33:33</td>     <th>  Log-Likelihood:    </th> <td>  147.24</td> \n",
       "</tr>\n",
       "<tr>\n",
       "  <th>No. Observations:</th>      <td>   415</td>      <th>  AIC:               </th> <td>  -288.5</td> \n",
       "</tr>\n",
       "<tr>\n",
       "  <th>Df Residuals:</th>          <td>   412</td>      <th>  BIC:               </th> <td>  -276.4</td> \n",
       "</tr>\n",
       "<tr>\n",
       "  <th>Df Model:</th>              <td>     2</td>      <th>                     </th>     <td> </td>    \n",
       "</tr>\n",
       "<tr>\n",
       "  <th>Covariance Type:</th>      <td>nonrobust</td>    <th>                     </th>     <td> </td>    \n",
       "</tr>\n",
       "</table>\n",
       "<table class=\"simpletable\">\n",
       "<tr>\n",
       "     <td></td>        <th>coef</th>     <th>std err</th>      <th>t</th>      <th>P>|t|</th>  <th>[0.025</th>    <th>0.975]</th>  \n",
       "</tr>\n",
       "<tr>\n",
       "  <th>ILILag2</th> <td>    0.6557</td> <td>    0.023</td> <td>   29.135</td> <td> 0.000</td> <td>    0.611</td> <td>    0.700</td>\n",
       "</tr>\n",
       "<tr>\n",
       "  <th>Queries</th> <td>    1.2558</td> <td>    0.079</td> <td>   15.876</td> <td> 0.000</td> <td>    1.100</td> <td>    1.411</td>\n",
       "</tr>\n",
       "<tr>\n",
       "  <th>const</th>   <td>   -0.2406</td> <td>    0.020</td> <td>  -12.321</td> <td> 0.000</td> <td>   -0.279</td> <td>   -0.202</td>\n",
       "</tr>\n",
       "</table>\n",
       "<table class=\"simpletable\">\n",
       "<tr>\n",
       "  <th>Omnibus:</th>       <td>74.791</td> <th>  Durbin-Watson:     </th> <td>   0.764</td>\n",
       "</tr>\n",
       "<tr>\n",
       "  <th>Prob(Omnibus):</th> <td> 0.000</td> <th>  Jarque-Bera (JB):  </th> <td> 159.402</td>\n",
       "</tr>\n",
       "<tr>\n",
       "  <th>Skew:</th>          <td> 0.950</td> <th>  Prob(JB):          </th> <td>2.43e-35</td>\n",
       "</tr>\n",
       "<tr>\n",
       "  <th>Kurtosis:</th>      <td> 5.368</td> <th>  Cond. No.          </th> <td>    11.1</td>\n",
       "</tr>\n",
       "</table>"
      ],
      "text/plain": [
       "<class 'statsmodels.iolib.summary.Summary'>\n",
       "\"\"\"\n",
       "                            OLS Regression Results                            \n",
       "==============================================================================\n",
       "Dep. Variable:                    ILI   R-squared:                       0.906\n",
       "Model:                            OLS   Adj. R-squared:                  0.906\n",
       "Method:                 Least Squares   F-statistic:                     1993.\n",
       "Date:                Wed, 14 Feb 2018   Prob (F-statistic):          1.38e-212\n",
       "Time:                        17:33:33   Log-Likelihood:                 147.24\n",
       "No. Observations:                 415   AIC:                            -288.5\n",
       "Df Residuals:                     412   BIC:                            -276.4\n",
       "Df Model:                           2                                         \n",
       "Covariance Type:            nonrobust                                         \n",
       "==============================================================================\n",
       "                 coef    std err          t      P>|t|      [0.025      0.975]\n",
       "------------------------------------------------------------------------------\n",
       "ILILag2        0.6557      0.023     29.135      0.000       0.611       0.700\n",
       "Queries        1.2558      0.079     15.876      0.000       1.100       1.411\n",
       "const         -0.2406      0.020    -12.321      0.000      -0.279      -0.202\n",
       "==============================================================================\n",
       "Omnibus:                       74.791   Durbin-Watson:                   0.764\n",
       "Prob(Omnibus):                  0.000   Jarque-Bera (JB):              159.402\n",
       "Skew:                           0.950   Prob(JB):                     2.43e-35\n",
       "Kurtosis:                       5.368   Cond. No.                         11.1\n",
       "==============================================================================\n",
       "\n",
       "Warnings:\n",
       "[1] Standard Errors assume that the covariance matrix of the errors is correctly specified.\n",
       "\"\"\""
      ]
     },
     "execution_count": 204,
     "metadata": {},
     "output_type": "execute_result"
    }
   ],
   "source": [
    "df=fluTrain.dropna()\n",
    "df=sm.add_constant(df)\n",
    "df['ILILag2']=df['ILILag2'].apply(lambda x: ln(x))\n",
    "xDf=df[['ILILag2','Queries','const']]\n",
    "\n",
    "fluTrend2=sm.OLS(df['ILI'].apply(lambda x: ln(x)),xDf).fit()\n",
    "fluTrend2.summary()"
   ]
  },
  {
   "cell_type": "code",
   "execution_count": 227,
   "metadata": {},
   "outputs": [
    {
     "name": "stderr",
     "output_type": "stream",
     "text": [
      "C:\\Users\\lucasfermo\\Anaconda3\\lib\\site-packages\\pandas\\core\\indexing.py:179: SettingWithCopyWarning: \n",
      "A value is trying to be set on a copy of a slice from a DataFrame\n",
      "\n",
      "See the caveats in the documentation: http://pandas.pydata.org/pandas-docs/stable/indexing.html#indexing-view-versus-copy\n",
      "  self._setitem_with_indexer(indexer, value)\n"
     ]
    },
    {
     "data": {
      "text/plain": [
       "4.5008765910440172"
      ]
     },
     "execution_count": 227,
     "metadata": {},
     "output_type": "execute_result"
    }
   ],
   "source": [
    "temp=fluTest['ILI']\n",
    "temp.index=temp.index+2\n",
    "fluTest['ILILag2']=temp\n",
    "\n",
    "fluTest['ILILag2'].iloc[0]=fluTrain['ILI'].iloc[-2]\n",
    "fluTest['ILILag2'].iloc[1]=fluTrain['ILI'].iloc[-1]\n",
    "\n",
    "xTest=pd.DataFrame({'Queries':fluTest['Queries'],'ILILag2':fluTest['ILILag2'].apply(lambda x: ln(x))})\n",
    "xTest=sm.add_constant(xTest)\n",
    "yTest=fluTest[['ILI']]\n",
    "\n",
    "yPred=model.predict(xTest).apply(lambda x: e(x))\n",
    "\n",
    "mse(yPred,yTest)*len(\n"
   ]
  }
 ],
 "metadata": {
  "kernelspec": {
   "display_name": "Python 3",
   "language": "python",
   "name": "python3"
  },
  "language_info": {
   "codemirror_mode": {
    "name": "ipython",
    "version": 3
   },
   "file_extension": ".py",
   "mimetype": "text/x-python",
   "name": "python",
   "nbconvert_exporter": "python",
   "pygments_lexer": "ipython3",
   "version": "3.6.1"
  }
 },
 "nbformat": 4,
 "nbformat_minor": 2
}

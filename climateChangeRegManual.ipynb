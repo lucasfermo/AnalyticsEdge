{
 "cells": [
  {
   "cell_type": "code",
   "execution_count": 2,
   "metadata": {
    "collapsed": true
   },
   "outputs": [],
   "source": [
    "import os,sys\n",
    "import pandas as pd\n",
    "import numpy as np\n",
    "import matplotlib.pyplot as plt\n",
    "%matplotlib inline\n",
    "\n",
    "plt.style.use(\"fivethirtyeight\")"
   ]
  },
  {
   "cell_type": "code",
   "execution_count": 4,
   "metadata": {},
   "outputs": [],
   "source": [
    "cc=pd.read_csv('data/climate_change.csv')\n",
    "ccTrain=cc[cc.Year<2007]\n",
    "ccTest=cc[cc.Year>=2007]"
   ]
  },
  {
   "cell_type": "code",
   "execution_count": 25,
   "metadata": {},
   "outputs": [
    {
     "data": {
      "text/plain": [
       "0.18377835333135861"
      ]
     },
     "execution_count": 25,
     "metadata": {},
     "output_type": "execute_result"
    }
   ],
   "source": [
    "from sklearn.linear_model import LinearRegression\n",
    "from sklearn.metrics import r2_score as r2\n",
    "\n",
    "model=LinearRegression(fit_intercept=True)\n",
    "\n",
    "xTrain=ccTrain.loc[:,\"MEI\":\"Aerosols\"]\n",
    "yTrain=ccTrain.loc[:,\"Temp\"]\n",
    "\n",
    "xTest=ccTest.loc[:,'MEI':'Aerosols']\n",
    "yTest=ccTest.loc[:,'Temp']\n",
    "\n",
    "model.fit(xTrain,yTrain)\n",
    "\n",
    "yPred=model.predict(xTest)\n",
    "\n",
    "r2(yTest,yPred)"
   ]
  }
 ],
 "metadata": {
  "kernelspec": {
   "display_name": "Python 3",
   "language": "python",
   "name": "python3"
  },
  "language_info": {
   "codemirror_mode": {
    "name": "ipython",
    "version": 3
   },
   "file_extension": ".py",
   "mimetype": "text/x-python",
   "name": "python",
   "nbconvert_exporter": "python",
   "pygments_lexer": "ipython3",
   "version": "3.6.1"
  }
 },
 "nbformat": 4,
 "nbformat_minor": 2
}

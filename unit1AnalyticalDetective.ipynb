{
 "cells": [
  {
   "cell_type": "code",
   "execution_count": 2,
   "metadata": {
    "collapsed": true
   },
   "outputs": [],
   "source": [
    "import pandas as pd\n",
    "import numpy as np\n",
    "import matplotlib.pyplot as plt\n",
    "%matplotlib inline\n",
    "plt.style.use(\"fivethirtyeight\")"
   ]
  },
  {
   "cell_type": "code",
   "execution_count": 3,
   "metadata": {},
   "outputs": [
    {
     "name": "stderr",
     "output_type": "stream",
     "text": [
      "C:\\Users\\lucasfermo\\Anaconda3\\lib\\site-packages\\IPython\\core\\interactiveshell.py:2717: DtypeWarning: Columns (6,7) have mixed types. Specify dtype option on import or set low_memory=False.\n",
      "  interactivity=interactivity, compiler=compiler, result=result)\n"
     ]
    }
   ],
   "source": [
    "#Load data and call data frame mvt\n",
    "mvt=pd.read_csv(\"data/mvtWeek1.csv\")"
   ]
  },
  {
   "cell_type": "code",
   "execution_count": 4,
   "metadata": {},
   "outputs": [
    {
     "data": {
      "text/plain": [
       "(191641, 11)"
      ]
     },
     "execution_count": 4,
     "metadata": {},
     "output_type": "execute_result"
    }
   ],
   "source": [
    "#How many rows/variables are in this dataset?\n",
    "mvt.shape\n",
    "#There are 191641 rows and 11 variables"
   ]
  },
  {
   "cell_type": "code",
   "execution_count": 5,
   "metadata": {},
   "outputs": [
    {
     "data": {
      "text/plain": [
       "9181151"
      ]
     },
     "execution_count": 5,
     "metadata": {},
     "output_type": "execute_result"
    }
   ],
   "source": [
    "#Maximum value of the 'ID' variable\n",
    "max(mvt['ID'])"
   ]
  },
  {
   "cell_type": "code",
   "execution_count": 6,
   "metadata": {},
   "outputs": [
    {
     "data": {
      "text/plain": [
       "111"
      ]
     },
     "execution_count": 6,
     "metadata": {},
     "output_type": "execute_result"
    }
   ],
   "source": [
    "#Minimum value of the 'Beat' variable\n",
    "min(mvt['Beat'])"
   ]
  },
  {
   "cell_type": "code",
   "execution_count": 7,
   "metadata": {},
   "outputs": [
    {
     "data": {
      "text/plain": [
       "15536"
      ]
     },
     "execution_count": 7,
     "metadata": {},
     "output_type": "execute_result"
    }
   ],
   "source": [
    "#How many observations have value TRUE in the Arrest variable for which an arrest was made?\n",
    "len(mvt.query(\"Arrest == True\"))"
   ]
  },
  {
   "cell_type": "code",
   "execution_count": 8,
   "metadata": {},
   "outputs": [
    {
     "data": {
      "text/plain": [
       "2308"
      ]
     },
     "execution_count": 8,
     "metadata": {},
     "output_type": "execute_result"
    }
   ],
   "source": [
    "#How many observations have a LocationDescription value of Alley?\n",
    "len(mvt.query(\"LocationDescription=='ALLEY'\"))"
   ]
  },
  {
   "cell_type": "code",
   "execution_count": 9,
   "metadata": {
    "collapsed": true
   },
   "outputs": [],
   "source": [
    "#In what format are the entries in the variable Date?\n",
    "#Month/Day/Year Hour:Minute"
   ]
  },
  {
   "cell_type": "code",
   "execution_count": 12,
   "metadata": {},
   "outputs": [],
   "source": [
    "dates=pd.DatetimeIndex(mvt['Date'])"
   ]
  },
  {
   "cell_type": "code",
   "execution_count": 13,
   "metadata": {},
   "outputs": [],
   "source": [
    "#Convert date column to datetime index\n",
    "#dates=pd.DatetimeIndex(mvt['Date])\n",
    "mvt['Date']=dates"
   ]
  },
  {
   "cell_type": "code",
   "execution_count": 14,
   "metadata": {
    "collapsed": true
   },
   "outputs": [],
   "source": [
    "#Add day and monnth to dataframe variable\n",
    "mvt['Weekday']=dates.weekday\n",
    "mvt['Month']=dates.month\n",
    "mvt['Year']=dates.year"
   ]
  },
  {
   "cell_type": "code",
   "execution_count": 15,
   "metadata": {},
   "outputs": [
    {
     "data": {
      "text/plain": [
       "[<matplotlib.lines.Line2D at 0x2154150a588>]"
      ]
     },
     "execution_count": 15,
     "metadata": {},
     "output_type": "execute_result"
    },
    {
     "data": {
      "image/png": "[encoded data removed]",
      "text/plain": [
       "<matplotlib.figure.Figure at 0x2153d92e278>"
      ]
     },
     "metadata": {},
     "output_type": "display_data"
    }
   ],
   "source": [
    "#Visualizing crime trends\n",
    "group=mvt.groupby(mvt[\"Date\"].map(lambda x:x.year))['Arrest'].count()\n",
    "plt.plot(group)"
   ]
  },
  {
   "cell_type": "code",
   "execution_count": 149,
   "metadata": {},
   "outputs": [
    {
     "data": {
      "text/plain": [
       "1.0"
      ]
     },
     "execution_count": 149,
     "metadata": {},
     "output_type": "execute_result"
    }
   ],
   "source": [
    "#Proportion of motor vehicle thefts in 2001 was an arrest made\n",
    "mvt.head()"
   ]
  },
  {
   "cell_type": "code",
   "execution_count": 153,
   "metadata": {},
   "outputs": [
    {
     "data": {
      "text/plain": [
       "0.10411727708161982"
      ]
     },
     "execution_count": 153,
     "metadata": {},
     "output_type": "execute_result"
    }
   ],
   "source": [
    "#What proportion of vehicle thefts in 2001 were arrests made\n",
    "tmp=mvt[mvt['Year']==2001]\n",
    "len(tmp[tmp['Arrest']==True])/len(tmp)"
   ]
  },
  {
   "cell_type": "code",
   "execution_count": 160,
   "metadata": {},
   "outputs": [
    {
     "data": {
      "text/plain": [
       "0.08487394957983194"
      ]
     },
     "execution_count": 160,
     "metadata": {},
     "output_type": "execute_result"
    }
   ],
   "source": [
    "#What proportion of motor vehicle thefts in 2007 was an arrest made\n",
    "tmp=mvt[mvt['Year']==2007]\n",
    "len(tmp[tmp['Arrest']==True])/len(tmp)"
   ]
  },
  {
   "cell_type": "code",
   "execution_count": 162,
   "metadata": {},
   "outputs": [
    {
     "data": {
      "text/plain": [
       "0.03902923644621062"
      ]
     },
     "execution_count": 162,
     "metadata": {},
     "output_type": "execute_result"
    }
   ],
   "source": [
    "#What proportion of motor vehicle thefts in 2012 was an arrest made?\n",
    "tmp=mvt[mvt['Year']==2012]\n",
    "len(tmp[tmp['Arrest']==True])/len(tmp)"
   ]
  },
  {
   "cell_type": "code",
   "execution_count": 261,
   "metadata": {},
   "outputs": [],
   "source": [
    "#What are the most popular locations for theft\n",
    "location=mvt.groupby('LocationDescription').count().sort_values(by='Arrest',ascending=False)\n",
    "location=location[location.index!=\"OTHER\"]\n",
    "#location=location[:6]\n",
    "#location.index\n",
    "location=location[:5]"
   ]
  },
  {
   "cell_type": "code",
   "execution_count": 269,
   "metadata": {},
   "outputs": [
    {
     "data": {
      "text/html": [
       "<div>\n",
       "<style>\n",
       "    .dataframe thead tr:only-child th {\n",
       "        text-align: right;\n",
       "    }\n",
       "\n",
       "    .dataframe thead th {\n",
       "        text-align: left;\n",
       "    }\n",
       "\n",
       "    .dataframe tbody tr th {\n",
       "        vertical-align: top;\n",
       "    }\n",
       "</style>\n",
       "<table border=\"1\" class=\"dataframe\">\n",
       "  <thead>\n",
       "    <tr style=\"text-align: right;\">\n",
       "      <th></th>\n",
       "      <th>Arrest</th>\n",
       "    </tr>\n",
       "    <tr>\n",
       "      <th>LocationDescription</th>\n",
       "      <th></th>\n",
       "    </tr>\n",
       "  </thead>\n",
       "  <tbody>\n",
       "    <tr>\n",
       "      <th>GAS STATION</th>\n",
       "      <td>0.207958</td>\n",
       "    </tr>\n",
       "    <tr>\n",
       "      <th>PARKING LOT/GARAGE(NON.RESID.)</th>\n",
       "      <td>0.107932</td>\n",
       "    </tr>\n",
       "    <tr>\n",
       "      <th>ALLEY</th>\n",
       "      <td>0.107886</td>\n",
       "    </tr>\n",
       "    <tr>\n",
       "      <th>DRIVEWAY - RESIDENTIAL</th>\n",
       "      <td>0.078806</td>\n",
       "    </tr>\n",
       "    <tr>\n",
       "      <th>STREET</th>\n",
       "      <td>0.074059</td>\n",
       "    </tr>\n",
       "  </tbody>\n",
       "</table>\n",
       "</div>"
      ],
      "text/plain": [
       "                                  Arrest\n",
       "LocationDescription                     \n",
       "GAS STATION                     0.207958\n",
       "PARKING LOT/GARAGE(NON.RESID.)  0.107932\n",
       "ALLEY                           0.107886\n",
       "DRIVEWAY - RESIDENTIAL          0.078806\n",
       "STREET                          0.074059"
      ]
     },
     "execution_count": 269,
     "metadata": {},
     "output_type": "execute_result"
    }
   ],
   "source": [
    "#Which location has the highest arrest rate?\n",
    "topFive=mvt.loc[mvt[\"LocationDescription\"].isin(location.index)]\n",
    "arrests=topFive[topFive['Arrest']==True].groupby('LocationDescription').count()['Arrest']\n",
    "total=topFive.groupby('LocationDescription').count()['Arrest']\n",
    "final=pd.DataFrame(arrests/total).sort_values(by='Arrest',ascending=False)\n",
    "#Gas Station"
   ]
  },
  {
   "cell_type": "code",
   "execution_count": 287,
   "metadata": {},
   "outputs": [
    {
     "data": {
      "text/plain": [
       "5"
      ]
     },
     "execution_count": 287,
     "metadata": {},
     "output_type": "execute_result"
    }
   ],
   "source": [
    "#Which day of the week does most thefts happen at gas stations?\n",
    "gas=mvt[mvt['LocationDescription']=='GAS STATION']\n",
    "weekday=gas.groupby('Weekday').count()['Arrest']\n",
    "weekday.argmax()"
   ]
  },
  {
   "cell_type": "code",
   "execution_count": 297,
   "metadata": {},
   "outputs": [
    {
     "data": {
      "text/plain": [
       "5"
      ]
     },
     "execution_count": 297,
     "metadata": {},
     "output_type": "execute_result"
    }
   ],
   "source": [
    "#Which day of the week does the least thefts happen at residential driveways?\n",
    "driveways=mvt[mvt['LocationDescription']=='DRIVEWAY - RESIDENTIAL']\n",
    "driveways.groupby('Weekday').count()['Arrest'].argmin()"
   ]
  },
  {
   "cell_type": "code",
   "execution_count": null,
   "metadata": {},
   "outputs": [],
   "source": []
  }
 ],
 "metadata": {
  "kernelspec": {
   "display_name": "Python 3",
   "language": "python",
   "name": "python3"
  },
  "language_info": {
   "codemirror_mode": {
    "name": "ipython",
    "version": 3
   },
   "file_extension": ".py",
   "mimetype": "text/x-python",
   "name": "python",
   "nbconvert_exporter": "python",
   "pygments_lexer": "ipython3",
   "version": "3.6.1"
  }
 },
 "nbformat": 4,
 "nbformat_minor": 2
}

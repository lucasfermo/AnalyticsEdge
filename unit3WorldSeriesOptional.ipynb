{
 "cells": [
  {
   "cell_type": "code",
   "execution_count": 355,
   "metadata": {},
   "outputs": [],
   "source": [
    "import os,sys,math\n",
    "import pandas as pd\n",
    "import numpy as np\n",
    "import matplotlib.pyplot as plt\n",
    "import statsmodels.api as sm\n",
    "import statsmodels.formula.api as smf\n",
    "import statsmodels.discrete.discrete_model as lg\n",
    "from sklearn.metrics import roc_curve\n",
    "from sklearn.metrics import roc_auc_score as auc\n",
    "from sklearn.metrics import mean_squared_error as mse\n",
    "from sklearn.metrics import confusion_matrix as cm\n",
    "from sklearn.metrics import r2_score as r2\n",
    "from sklearn.model_selection import train_test_split as split\n",
    "%matplotlib inline\n",
    "e=math.exp\n",
    "ln=math.log\n",
    "\n",
    "plt.style.use(\"fivethirtyeight\")"
   ]
  },
  {
   "cell_type": "code",
   "execution_count": 608,
   "metadata": {},
   "outputs": [
    {
     "name": "stderr",
     "output_type": "stream",
     "text": [
      "C:\\Users\\lucasfermo\\Anaconda3\\lib\\site-packages\\ipykernel_launcher.py:4: SettingWithCopyWarning: \n",
      "A value is trying to be set on a copy of a slice from a DataFrame.\n",
      "Try using .loc[row_indexer,col_indexer] = value instead\n",
      "\n",
      "See the caveats in the documentation: http://pandas.pydata.org/pandas-docs/stable/indexing.html#indexing-view-versus-copy\n",
      "  after removing the cwd from sys.path.\n",
      "C:\\Users\\lucasfermo\\Anaconda3\\lib\\site-packages\\ipykernel_launcher.py:5: SettingWithCopyWarning: \n",
      "A value is trying to be set on a copy of a slice from a DataFrame.\n",
      "Try using .loc[row_indexer,col_indexer] = value instead\n",
      "\n",
      "See the caveats in the documentation: http://pandas.pydata.org/pandas-docs/stable/indexing.html#indexing-view-versus-copy\n",
      "  \"\"\"\n"
     ]
    },
    {
     "name": "stdout",
     "output_type": "stream",
     "text": [
      "Optimization terminated successfully.\n",
      "         Current function value: 0.463874\n",
      "         Iterations 6\n"
     ]
    },
    {
     "data": {
      "text/html": [
       "<table class=\"simpletable\">\n",
       "<caption>Logit Regression Results</caption>\n",
       "<tr>\n",
       "  <th>Dep. Variable:</th>    <td>WorldSeries</td>   <th>  No. Observations:  </th>  <td>   244</td> \n",
       "</tr>\n",
       "<tr>\n",
       "  <th>Model:</th>               <td>Logit</td>      <th>  Df Residuals:      </th>  <td>   239</td> \n",
       "</tr>\n",
       "<tr>\n",
       "  <th>Method:</th>               <td>MLE</td>       <th>  Df Model:          </th>  <td>     4</td> \n",
       "</tr>\n",
       "<tr>\n",
       "  <th>Date:</th>          <td>Fri, 16 Feb 2018</td> <th>  Pseudo R-squ.:     </th>  <td>0.05333</td>\n",
       "</tr>\n",
       "<tr>\n",
       "  <th>Time:</th>              <td>16:31:54</td>     <th>  Log-Likelihood:    </th> <td> -113.19</td>\n",
       "</tr>\n",
       "<tr>\n",
       "  <th>converged:</th>           <td>True</td>       <th>  LL-Null:           </th> <td> -119.56</td>\n",
       "</tr>\n",
       "<tr>\n",
       "  <th> </th>                      <td> </td>        <th>  LLR p-value:       </th>  <td>0.01256</td>\n",
       "</tr>\n",
       "</table>\n",
       "<table class=\"simpletable\">\n",
       "<tr>\n",
       "         <td></td>           <th>coef</th>     <th>std err</th>      <th>z</th>      <th>P>|z|</th>  <th>[0.025</th>    <th>0.975]</th>  \n",
       "</tr>\n",
       "<tr>\n",
       "  <th>const</th>          <td>   12.5874</td> <td>   53.648</td> <td>    0.235</td> <td> 0.814</td> <td>  -92.560</td> <td>  117.735</td>\n",
       "</tr>\n",
       "<tr>\n",
       "  <th>Year</th>           <td>   -0.0061</td> <td>    0.027</td> <td>   -0.224</td> <td> 0.823</td> <td>   -0.060</td> <td>    0.048</td>\n",
       "</tr>\n",
       "<tr>\n",
       "  <th>RA</th>             <td>   -0.0008</td> <td>    0.003</td> <td>   -0.301</td> <td> 0.764</td> <td>   -0.006</td> <td>    0.005</td>\n",
       "</tr>\n",
       "<tr>\n",
       "  <th>RankSeason</th>     <td>   -0.0685</td> <td>    0.120</td> <td>   -0.569</td> <td> 0.569</td> <td>   -0.304</td> <td>    0.167</td>\n",
       "</tr>\n",
       "<tr>\n",
       "  <th>numCompetitors</th> <td>   -0.1794</td> <td>    0.182</td> <td>   -0.988</td> <td> 0.323</td> <td>   -0.535</td> <td>    0.176</td>\n",
       "</tr>\n",
       "</table>"
      ],
      "text/plain": [
       "<class 'statsmodels.iolib.summary.Summary'>\n",
       "\"\"\"\n",
       "                           Logit Regression Results                           \n",
       "==============================================================================\n",
       "Dep. Variable:            WorldSeries   No. Observations:                  244\n",
       "Model:                          Logit   Df Residuals:                      239\n",
       "Method:                           MLE   Df Model:                            4\n",
       "Date:                Fri, 16 Feb 2018   Pseudo R-squ.:                 0.05333\n",
       "Time:                        16:31:54   Log-Likelihood:                -113.19\n",
       "converged:                       True   LL-Null:                       -119.56\n",
       "                                        LLR p-value:                   0.01256\n",
       "==================================================================================\n",
       "                     coef    std err          z      P>|z|      [0.025      0.975]\n",
       "----------------------------------------------------------------------------------\n",
       "const             12.5874     53.648      0.235      0.814     -92.560     117.735\n",
       "Year              -0.0061      0.027     -0.224      0.823      -0.060       0.048\n",
       "RA                -0.0008      0.003     -0.301      0.764      -0.006       0.005\n",
       "RankSeason        -0.0685      0.120     -0.569      0.569      -0.304       0.167\n",
       "numCompetitors    -0.1794      0.182     -0.988      0.323      -0.535       0.176\n",
       "==================================================================================\n",
       "\"\"\""
      ]
     },
     "execution_count": 608,
     "metadata": {},
     "output_type": "execute_result"
    }
   ],
   "source": [
    "bb=pd.read_csv('data/baseball.csv')\n",
    "po=bb[bb.RankPlayoffs>0]\n",
    "numCompetitors=po.groupby('Year')['Year'].count()\n",
    "po['numCompetitors']=po.Year.apply(lambda x: numCompetitors.loc[x])\n",
    "po['WorldSeries']=po.RankPlayoffs.apply(lambda x: 1 if x==1 else 0)\n",
    "\n",
    "x=po[['Year','RA','RankSeason','numCompetitors']]\n",
    "x=sm.add_constant(x)\n",
    "y=po.WorldSeries\n",
    "\n",
    "\n",
    "model=lg.Logit(y,x).fit()\n",
    "model.summary()\n",
    "\n"
   ]
  },
  {
   "cell_type": "code",
   "execution_count": null,
   "metadata": {},
   "outputs": [],
   "source": []
  }
 ],
 "metadata": {
  "kernelspec": {
   "display_name": "Python 3",
   "language": "python",
   "name": "python3"
  },
  "language_info": {
   "codemirror_mode": {
    "name": "ipython",
    "version": 3
   },
   "file_extension": ".py",
   "mimetype": "text/x-python",
   "name": "python",
   "nbconvert_exporter": "python",
   "pygments_lexer": "ipython3",
   "version": "3.6.1"
  }
 },
 "nbformat": 4,
 "nbformat_minor": 2
}

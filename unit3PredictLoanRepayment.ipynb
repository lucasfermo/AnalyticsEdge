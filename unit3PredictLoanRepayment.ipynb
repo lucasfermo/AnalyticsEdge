{
 "cells": [
  {
   "cell_type": "code",
   "execution_count": 355,
   "metadata": {},
   "outputs": [],
   "source": [
    "import os,sys,math\n",
    "import pandas as pd\n",
    "import numpy as np\n",
    "import matplotlib.pyplot as plt\n",
    "import statsmodels.api as sm\n",
    "import statsmodels.formula.api as smf\n",
    "import statsmodels.discrete.discrete_model as lg\n",
    "from sklearn.metrics import roc_curve\n",
    "from sklearn.metrics import roc_auc_score as auc\n",
    "from sklearn.metrics import mean_squared_error as mse\n",
    "from sklearn.metrics import confusion_matrix as cm\n",
    "from sklearn.metrics import r2_score as r2\n",
    "from sklearn.model_selection import train_test_split as split\n",
    "%matplotlib inline\n",
    "e=math.exp\n",
    "ln=math.log\n",
    "\n",
    "plt.style.use(\"fivethirtyeight\")"
   ]
  },
  {
   "cell_type": "code",
   "execution_count": 502,
   "metadata": {},
   "outputs": [
    {
     "name": "stdout",
     "output_type": "stream",
     "text": [
      "Optimization terminated successfully.\n",
      "         Current function value: 0.412049\n",
      "         Iterations 6\n"
     ]
    },
    {
     "data": {
      "text/plain": [
       "1.9140090091603235"
      ]
     },
     "execution_count": 502,
     "metadata": {},
     "output_type": "execute_result"
    }
   ],
   "source": [
    "l=pd.read_csv('data/loans_imputed.csv')\n",
    "\n",
    "dums=pd.get_dummies(l['purpose'],drop_first=True)\n",
    "#dums.iloc[0]=dums.iloc[0].apply(lambda x: 1)\n",
    "\n",
    "\n",
    "l=pd.concat([l,dums],axis=1).drop('purpose',axis=1)\n",
    "\n",
    "sub=split(l,test_size=0.70)\n",
    "lTrain=sub[1]\n",
    "lTest=sub[0]\n",
    "\n",
    "xTrain=lTrain.drop('not.fully.paid',axis=1)\n",
    "xTrain=sm.add_constant(xTrain)\n",
    "yTrain=lTrain['not.fully.paid']\n",
    "\n",
    "xTest=lTest.drop('not.fully.paid',axis=1)\n",
    "xTest=sm.add_constant(xTest)\n",
    "yTest=lTest['not.fully.paid']\n",
    "\n",
    "\n",
    "model1=lg.Logit(yTrain,xTrain).fit()\n",
    "\n",
    "model1.summary()\n"
   ]
  },
  {
   "cell_type": "code",
   "execution_count": 537,
   "metadata": {},
   "outputs": [
    {
     "name": "stderr",
     "output_type": "stream",
     "text": [
      "C:\\Users\\lucasfermo\\Anaconda3\\lib\\site-packages\\ipykernel_launcher.py:6: SettingWithCopyWarning: \n",
      "A value is trying to be set on a copy of a slice from a DataFrame\n",
      "\n",
      "See the caveats in the documentation: http://pandas.pydata.org/pandas-docs/stable/indexing.html#indexing-view-versus-copy\n",
      "  \n"
     ]
    },
    {
     "name": "stdout",
     "output_type": "stream",
     "text": [
      "Optimization terminated successfully.\n",
      "         Current function value: 0.423052\n",
      "         Iterations 6\n"
     ]
    },
    {
     "name": "stderr",
     "output_type": "stream",
     "text": [
      "C:\\Users\\lucasfermo\\Anaconda3\\lib\\site-packages\\ipykernel_launcher.py:27: SettingWithCopyWarning: \n",
      "A value is trying to be set on a copy of a slice from a DataFrame.\n",
      "Try using .loc[row_indexer,col_indexer] = value instead\n",
      "\n",
      "See the caveats in the documentation: http://pandas.pydata.org/pandas-docs/stable/indexing.html#indexing-view-versus-copy\n"
     ]
    },
    {
     "data": {
      "text/plain": [
       "37"
      ]
     },
     "execution_count": 537,
     "metadata": {},
     "output_type": "execute_result"
    }
   ],
   "source": [
    "l=pd.read_csv('data/loans_imputed.csv')\n",
    "\n",
    "#mask for profit = -1 when not.fully.paid is True\n",
    "l['profit']=l['int.rate'].apply(lambda x: e(x*3)-1)\n",
    "mask=l['not.fully.paid']>0\n",
    "l['profit'][mask]=l.profit[mask].apply(lambda x: -1)\n",
    "\n",
    "sub=split(l,test_size=0.70)\n",
    "\n",
    "lTrain=sub[1]\n",
    "lTest=sub[0]\n",
    "\n",
    "xTrain=lTrain['int.rate']\n",
    "xTrain=sm.add_constant(xTrain)\n",
    "yTrain=lTrain['not.fully.paid']\n",
    "\n",
    "xTest=lTest['int.rate']\n",
    "xTest=sm.add_constant(xTest)\n",
    "yTest=lTest['not.fully.paid']\n",
    "\n",
    "model2=lg.Logit(yTrain,xTrain).fit()\n",
    "\n",
    "yPred=model2.predict(xTest)\n",
    "\n",
    "yPred.max()\n",
    "\n",
    "lTest['predicted.risk']=yPred\n",
    "\n",
    "#test set area under curve of the bivariate model\n",
    "\n",
    "auc(yTest,yPred)\n",
    "\n",
    "highInterest=lTest[lTest['int.rate']>0.15]\n",
    "\n",
    "\n",
    "temp=lTest.sort_values('predicted.risk').head(100)\n",
    "temp['not.fully.paid'].sum()"
   ]
  }
 ],
 "metadata": {
  "kernelspec": {
   "display_name": "Python 3",
   "language": "python",
   "name": "python3"
  },
  "language_info": {
   "codemirror_mode": {
    "name": "ipython",
    "version": 3
   },
   "file_extension": ".py",
   "mimetype": "text/x-python",
   "name": "python",
   "nbconvert_exporter": "python",
   "pygments_lexer": "ipython3",
   "version": "3.6.1"
  }
 },
 "nbformat": 4,
 "nbformat_minor": 2
}

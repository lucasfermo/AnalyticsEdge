{
 "cells": [
  {
   "cell_type": "code",
   "execution_count": 301,
   "metadata": {
    "collapsed": true
   },
   "outputs": [],
   "source": [
    "import os,sys\n",
    "import pandas as pd\n",
    "import numpy as np\n",
    "import matplotlib.pyplot as plt\n",
    "%matplotlib inline\n",
    "plt.style.use(\"fivethirtyeight\")"
   ]
  },
  {
   "cell_type": "code",
   "execution_count": 587,
   "metadata": {
    "collapsed": true
   },
   "outputs": [],
   "source": [
    "#Load dataset\n",
    "CPS=pd.read_csv('data/CPSData.csv')"
   ]
  },
  {
   "cell_type": "code",
   "execution_count": 466,
   "metadata": {},
   "outputs": [
    {
     "data": {
      "text/plain": [
       "'Educational and health services'"
      ]
     },
     "execution_count": 466,
     "metadata": {},
     "output_type": "execute_result"
    }
   ],
   "source": [
    "#Among the interviewees with a value reported for the industry variable, what\n",
    "#is the most common industry of employment?\n",
    "new=CPS[CPS['Industry'].notnull()]\n",
    "new.groupby('Industry')['Age'].count().sort_values(ascending=False).index[0]"
   ]
  },
  {
   "cell_type": "code",
   "execution_count": 471,
   "metadata": {},
   "outputs": [
    {
     "name": "stdout",
     "output_type": "stream",
     "text": [
      "New Mexico\n",
      "California\n"
     ]
    }
   ],
   "source": [
    "#Which state has the fewest interviewees?\n",
    "print(CPS.groupby('State')['Age'].count().sort_values().index[0])\n",
    "#Which state has the most interviewees?\n",
    "print(CPS.groupby('State')['Age'].count().sort_values(ascending=False).index[0])"
   ]
  },
  {
   "cell_type": "code",
   "execution_count": 485,
   "metadata": {},
   "outputs": [
    {
     "data": {
      "text/plain": [
       "'0.94'"
      ]
     },
     "execution_count": 485,
     "metadata": {},
     "output_type": "execute_result"
    }
   ],
   "source": [
    "#Which proportion of interviewees are citizens of the United States?\n",
    "\"%.2f\" % float(1-len(CPS[CPS['Citizenship']==\"Non-Citizen\"])/len(CPS))"
   ]
  },
  {
   "cell_type": "code",
   "execution_count": 500,
   "metadata": {},
   "outputs": [
    {
     "data": {
      "text/plain": [
       "Race\n",
       "American Indian      304\n",
       "Black                621\n",
       "Multiracial          448\n",
       "White              16731\n",
       "Name: Age, dtype: int64"
      ]
     },
     "execution_count": 500,
     "metadata": {},
     "output_type": "execute_result"
    }
   ],
   "source": [
    "#Which races are there at least 250 interviewees in the CPS dataset\n",
    "#of Hispanic ethnicity?\n",
    "new=CPS[CPS['Hispanic']==1]\n",
    "new=new.groupby(\"Race\").count()['Age']\n",
    "new[new>250]"
   ]
  },
  {
   "cell_type": "code",
   "execution_count": 504,
   "metadata": {},
   "outputs": [
    {
     "data": {
      "text/plain": [
       "PeopleInHousehold     False\n",
       "Region                False\n",
       "State                 False\n",
       "MetroAreaCode          True\n",
       "Age                   False\n",
       "Married                True\n",
       "Sex                   False\n",
       "Education              True\n",
       "Race                  False\n",
       "Hispanic              False\n",
       "CountryOfBirthCode    False\n",
       "Citizenship           False\n",
       "EmploymentStatus       True\n",
       "Industry               True\n",
       "dtype: bool"
      ]
     },
     "execution_count": 504,
     "metadata": {},
     "output_type": "execute_result"
    }
   ],
   "source": [
    "#Which variables have at least one interviewee with a missing value?\n",
    "CPS.isnull().any()"
   ]
  },
  {
   "cell_type": "code",
   "execution_count": 530,
   "metadata": {},
   "outputs": [
    {
     "name": "stdout",
     "output_type": "stream",
     "text": [
      "25338\n",
      "0\n"
     ]
    }
   ],
   "source": [
    "#The Married variable being missing is not related to which other variable?\n",
    "print(len(CPS[CPS['Married'].isnull() & CPS['Education'].isnull()]))\n",
    "print(len(CPS[CPS['Married'].isnull() & CPS['Region'].isnull()]))"
   ]
  },
  {
   "cell_type": "code",
   "execution_count": 544,
   "metadata": {},
   "outputs": [
    {
     "data": {
      "text/plain": [
       "State\n",
       "Alaska     0.0\n",
       "Wyoming    0.0\n",
       "Name: Age, dtype: float64"
      ]
     },
     "execution_count": 544,
     "metadata": {},
     "output_type": "execute_result"
    }
   ],
   "source": [
    "#How many states had all interviewee living in a non-metropolitan area (missing MetroAreaCode Value)?\n",
    "missing=CPS[CPS['MetroAreaCode'].isnull()].groupby('State').count()['Age']\n",
    "total=CPS.groupby('State').count()['Age']\n",
    "tmp=total-missing\n",
    "tmp[tmp==0]"
   ]
  },
  {
   "cell_type": "code",
   "execution_count": 553,
   "metadata": {},
   "outputs": [
    {
     "data": {
      "text/plain": [
       "State\n",
       "District of Columbia    0.0\n",
       "New Jersey              0.0\n",
       "Rhode Island            0.0\n",
       "Name: Age, dtype: float64"
      ]
     },
     "execution_count": 553,
     "metadata": {},
     "output_type": "execute_result"
    }
   ],
   "source": [
    "#How many states had all interviewees living in a metropolitan area?\n",
    "notMissing=CPS[CPS['MetroAreaCode'].notnull()].groupby('State').count()['Age']\n",
    "total=CPS.groupby('State').count()['Age']\n",
    "tmp=total-notMissing\n",
    "tmp[tmp==0]"
   ]
  },
  {
   "cell_type": "code",
   "execution_count": 562,
   "metadata": {},
   "outputs": [
    {
     "data": {
      "text/plain": [
       "'Midwest'"
      ]
     },
     "execution_count": 562,
     "metadata": {},
     "output_type": "execute_result"
    }
   ],
   "source": [
    "#Which region of the United States has the largest proportion of interviewees\n",
    "#living in a non-metro area?\n",
    "notMissing=CPS[CPS['MetroAreaCode'].notnull()].groupby('Region').count()['Age']\n",
    "total=CPS.groupby('Region').count()['Age']\n",
    "(notMissing/total).sort_values(ascending=False).index[3]"
   ]
  },
  {
   "cell_type": "code",
   "execution_count": 574,
   "metadata": {},
   "outputs": [
    {
     "data": {
      "text/plain": [
       "State\n",
       "Rhode Island            0.000000\n",
       "New Jersey              0.000000\n",
       "District of Columbia    0.000000\n",
       "California              0.020484\n",
       "Florida                 0.039231\n",
       "Massachusetts           0.064922\n",
       "Maryland                0.069375\n",
       "New York                0.080608\n",
       "Connecticut             0.085684\n",
       "Illinois                0.112219\n",
       "Colorado                0.129915\n",
       "Arizona                 0.131545\n",
       "Nevada                  0.133082\n",
       "Texas                   0.143705\n",
       "Louisiana               0.161379\n",
       "Pennsylvania            0.174300\n",
       "Michigan                0.178257\n",
       "Washington              0.181319\n",
       "Georgia                 0.198432\n",
       "Virginia                0.198442\n",
       "Utah                    0.210098\n",
       "Oregon                  0.218219\n",
       "Delaware                0.233966\n",
       "New Mexico              0.245009\n",
       "Hawaii                  0.249166\n",
       "Ohio                    0.251223\n",
       "Alabama                 0.258721\n",
       "Indiana                 0.291417\n",
       "Wisconsin               0.299330\n",
       "South Carolina          0.313028\n",
       "Minnesota               0.315068\n",
       "Oklahoma                0.327643\n",
       "Missouri                0.328671\n",
       "Tennessee               0.355942\n",
       "Kansas                  0.362274\n",
       "North Carolina          0.373043\n",
       "Iowa                    0.486946\n",
       "Arkansas                0.490500\n",
       "Idaho                   0.498682\n",
       "Kentucky                0.506790\n",
       "New Hampshire           0.568745\n",
       "Nebraska                0.581324\n",
       "Maine                   0.598321\n",
       "Vermont                 0.652381\n",
       "Mississippi             0.694309\n",
       "South Dakota            0.702500\n",
       "North Dakota            0.737386\n",
       "West Virginia           0.755855\n",
       "Montana                 0.836079\n",
       "Alaska                  1.000000\n",
       "Wyoming                 1.000000\n",
       "Name: MetroAreaCode, dtype: float64"
      ]
     },
     "execution_count": 574,
     "metadata": {},
     "output_type": "execute_result"
    }
   ],
   "source": [
    "#Which state has a proportion of interviewees living in a non-metropolitan area \n",
    "#closest to 30%?\n",
    "CPS.groupby('State')['MetroAreaCode'].apply(lambda x: x.isnull().mean()).sort_values()"
   ]
  },
  {
   "cell_type": "code",
   "execution_count": 575,
   "metadata": {},
   "outputs": [],
   "source": [
    "#Load mapping dictionaries\n",
    "MetroAreaMap=pd.read_csv(\"data/MetroAreaCodes.csv\")\n",
    "CountryMap=pd.read_csv('data/CountryCodes.csv')"
   ]
  },
  {
   "cell_type": "code",
   "execution_count": 588,
   "metadata": {},
   "outputs": [],
   "source": [
    "#Merge mapping dictionaries to main dataset\n",
    "CPS=pd.merge(CPS,MetroAreaMap,left_on=\"MetroAreaCode\",right_on=\"Code\").drop('Code',axis=1)\n",
    "CPS=pd.merge(CPS,CountryMap,left_on=\"CountryOfBirthCode\",right_on=\"Code\").drop('Code',axis=1)"
   ]
  },
  {
   "cell_type": "code",
   "execution_count": 594,
   "metadata": {},
   "outputs": [
    {
     "data": {
      "text/plain": [
       "'New York-Northern New Jersey-Long Island, NY-NJ-PA'"
      ]
     },
     "execution_count": 594,
     "metadata": {},
     "output_type": "execute_result"
    }
   ],
   "source": [
    "#Which metro area has the largest number of interviewees?\n",
    "CPS.groupby('MetroArea').count()['Age'].argmax()"
   ]
  },
  {
   "cell_type": "code",
   "execution_count": 596,
   "metadata": {},
   "outputs": [
    {
     "data": {
      "text/plain": [
       "'Laredo, TX'"
      ]
     },
     "execution_count": 596,
     "metadata": {},
     "output_type": "execute_result"
    }
   ],
   "source": [
    "#Which metropolitan area has the highest proportion of Hispanic ethnicity?\n",
    "CPS.groupby('MetroArea')['Hispanic'].mean().argmax()"
   ]
  },
  {
   "cell_type": "code",
   "execution_count": 604,
   "metadata": {},
   "outputs": [
    {
     "data": {
      "text/plain": [
       "4"
      ]
     },
     "execution_count": 604,
     "metadata": {},
     "output_type": "execute_result"
    }
   ],
   "source": [
    "#Find the number of metropolitan areas in the United States from which\n",
    "#at least 20% of interviewees are Asian\n",
    "asian=CPS.groupby('MetroArea').apply(lambda x: (x.Race==\"Asian\").mean())\n",
    "len(asian[asian>0.2])"
   ]
  },
  {
   "cell_type": "code",
   "execution_count": 610,
   "metadata": {},
   "outputs": [
    {
     "data": {
      "text/plain": [
       "'Iowa City, IA'"
      ]
     },
     "execution_count": 610,
     "metadata": {},
     "output_type": "execute_result"
    }
   ],
   "source": [
    "#Which metro area has smallest proportion of interviees who have received no high \n",
    "#school dipoma?\n",
    "new=CPS[CPS.Education.notnull()].groupby('MetroArea').apply(lambda x: (x.Education==\"No high school diploma\").mean())\n",
    "new.argmin()"
   ]
  },
  {
   "cell_type": "code",
   "execution_count": 635,
   "metadata": {},
   "outputs": [
    {
     "data": {
      "text/plain": [
       "'Philippines'"
      ]
     },
     "execution_count": 635,
     "metadata": {},
     "output_type": "execute_result"
    }
   ],
   "source": [
    "#Outside of America, which country was the most common palce of birth\n",
    "notNA=CPS[CPS.Country.isin(['Canada','United States','Mexico'])==False]\n",
    "notNA.groupby('Country').count()['Age'].argmax()"
   ]
  },
  {
   "cell_type": "code",
   "execution_count": 644,
   "metadata": {},
   "outputs": [
    {
     "data": {
      "text/plain": [
       "0.30866025166543304"
      ]
     },
     "execution_count": 644,
     "metadata": {},
     "output_type": "execute_result"
    }
   ],
   "source": [
    "#What proportion of the interviewees from New York-Northern New Jersey-Long Island, NY-NJ-PA\n",
    "#have a country of birth that is not the United States?\n",
    "notUS=CPS[(CPS.Country!='United States') & (CPS.MetroArea=='New York-Northern New Jersey-Long Island, NY-NJ-PA')]\n",
    "local=CPS[CPS['MetroArea']==\"New York-Northern New Jersey-Long Island, NY-NJ-PA\"]\n",
    "len(notUS)/len(local)"
   ]
  },
  {
   "cell_type": "code",
   "execution_count": 650,
   "metadata": {},
   "outputs": [
    {
     "name": "stdout",
     "output_type": "stream",
     "text": [
      "Warner Robins, GA\n",
      "Danbury, CT\n",
      "St. Cloud, MN\n"
     ]
    }
   ],
   "source": [
    "#Which metro area has the largest number of interviewees with a country of birth in India?\n",
    "print(CPS.groupby(\"MetroArea\").apply(lambda x: (x.Country=='India').mean()).argmax())\n",
    "#In Brazil?\n",
    "print(CPS.groupby('MetroArea').apply(lambda x: (x.Country=='Brazil').mean()).argmax())\n",
    "#In Somalia\n",
    "print(CPS.groupby('MetroArea').apply(lambda x: (x.Country=='Somalia').mean()).argmax())"
   ]
  }
 ],
 "metadata": {
  "kernelspec": {
   "display_name": "Python 3",
   "language": "python",
   "name": "python3"
  },
  "language_info": {
   "codemirror_mode": {
    "name": "ipython",
    "version": 3
   },
   "file_extension": ".py",
   "mimetype": "text/x-python",
   "name": "python",
   "nbconvert_exporter": "python",
   "pygments_lexer": "ipython3",
   "version": "3.6.1"
  }
 },
 "nbformat": 4,
 "nbformat_minor": 2
}
